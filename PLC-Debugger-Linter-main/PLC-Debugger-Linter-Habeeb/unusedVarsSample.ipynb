{
 "cells": [
  {
   "cell_type": "code",
   "execution_count": 5,
   "metadata": {},
   "outputs": [
    {
     "name": "stdout",
     "output_type": "stream",
     "text": [
      "VariableNameChecker Violations:\n",
      "Variable 'z' is assigned but never used.\n",
      "Variable 'a' is assigned but never used.\n",
      "Variable 'e' is assigned but never used.\n",
      "Variable 'b' is assigned but never used.\n"
     ]
    }
   ],
   "source": [
    "import ast\n",
    "\n",
    "class VariableNameChecker:\n",
    "    def __init__(self):\n",
    "        self.violations = set()  # Standardized violations attribute as a set\n",
    "\n",
    "    def run_check(self, ast_tree: ast.AST):\n",
    "        \"\"\"\n",
    "        Runs the linting rule on the provided AST tree to detect unused variables.\n",
    "        Populates the 'violations' set with messages about detected issues.\n",
    "        \"\"\"\n",
    "        class VariableVisitor(ast.NodeVisitor):\n",
    "            def __init__(self):\n",
    "                self.assigned_vars = set()\n",
    "                self.used_vars = set()\n",
    "\n",
    "            def visit_Assign(self, node):\n",
    "                for target in node.targets:\n",
    "                    if isinstance(target, ast.Name):\n",
    "                        self.assigned_vars.add(target.id)\n",
    "                self.generic_visit(node)\n",
    "\n",
    "            def visit_Name(self, node):\n",
    "                if isinstance(node.ctx, ast.Load):\n",
    "                    self.used_vars.add(node.id)\n",
    "                self.generic_visit(node)\n",
    "\n",
    "        # Visit the tree and collect variables\n",
    "        visitor = VariableVisitor()\n",
    "        visitor.visit(ast_tree)\n",
    "\n",
    "        # Find unused variables\n",
    "        unused_vars = visitor.assigned_vars - visitor.used_vars\n",
    "        for var in unused_vars:\n",
    "            self.violations.add(f\"Variable '{var}' is assigned but never used.\")\n",
    "\n",
    "    def __str__(self):\n",
    "        \"\"\"\n",
    "        Returns a string representation of the violations for this checker.\n",
    "        \"\"\"\n",
    "        if not self.violations:\n",
    "            return f\"{self.__class__.__name__}: No violations detected.\"\n",
    "        return f\"{self.__class__.__name__} Violations:\\n\" + \"\\n\".join(self.violations)\n",
    "\n",
    "\n",
    "# Example of how this would be used with the main Linter class\n",
    "if __name__ == \"__main__\":\n",
    "    test_code = \"\"\"\n",
    "x = 5\n",
    "y = 10\n",
    "z = x + y\n",
    "print(x)\n",
    "a = 3\n",
    "b = 5\n",
    "for i in range(10):\n",
    "    print(i)\n",
    "    e = 8\n",
    "\n",
    "\"\"\"\n",
    "\n",
    "    # Parse the code into an AST\n",
    "    tree = ast.parse(test_code)\n",
    "\n",
    "    # Create and run the checker\n",
    "    checker = VariableNameChecker()\n",
    "    checker.run_check(tree)\n",
    "\n",
    "    # Print the violations\n",
    "    print(checker)\n"
   ]
  }
 ],
 "metadata": {
  "kernelspec": {
   "display_name": "Python 3",
   "language": "python",
   "name": "python3"
  },
  "language_info": {
   "codemirror_mode": {
    "name": "ipython",
    "version": 3
   },
   "file_extension": ".py",
   "mimetype": "text/x-python",
   "name": "python",
   "nbconvert_exporter": "python",
   "pygments_lexer": "ipython3",
   "version": "3.12.4"
  }
 },
 "nbformat": 4,
 "nbformat_minor": 2
}
