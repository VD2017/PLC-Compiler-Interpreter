{
 "cells": [
  {
   "cell_type": "code",
   "execution_count": null,
   "metadata": {},
   "outputs": [
    {
     "data": {
      "text/plain": [
       "Unreachable code violations: {\"Violation: Unreachable code detected in 'exampleFunction' at line 4.\"}\n"
      ]
     },
     "metadata": {},
     "output_type": "display_data"
    }
   ],
   "source": [
    "import ast\n",
    "\n",
    "# Visitor to detect unreachable code (like code after a `return` statement)\n",
    "class UnreachableCodeVisitor(ast.NodeVisitor):\n",
    "    def __init__(self):\n",
    "        self.unreachable_nodes = []     # Nodes detected as unreachable\n",
    "        self.scope_stack = []           # Stack to keep track of current scope\n",
    "\n",
    "    def visit_FunctionDef(self, node):\n",
    "        self.scope_stack.append(node.name)\n",
    "        self.generic_visit(node)\n",
    "        self.scope_stack.pop()\n",
    "\n",
    "    def visit_Return(self, node):\n",
    "        self._detect_unreachable_code(node)\n",
    "\n",
    "    def visit_Break(self, node):\n",
    "        self._detect_unreachable_code(node)\n",
    "\n",
    "    def visit_Continue(self, node):\n",
    "        self._detect_unreachable_code(node)\n",
    "\n",
    "    def visit_If(self, node):\n",
    "        self.generic_visit(node)\n",
    "        # Check if there's unreachable code after an \"if\" statement block ends\n",
    "        if isinstance(node.orelse, list) and not node.orelse:\n",
    "            self._detect_unreachable_code(node)\n",
    "\n",
    "    def _detect_unreachable_code(self, node):\n",
    "        if self.scope_stack:\n",
    "            self.unreachable_nodes.append((self.scope_stack[-1], node.lineno))\n",
    "\n",
    "# Checker to report unreachable code violations\n",
    "class UnreachableCodeChecker:\n",
    "    def __init__(self):\n",
    "        self.violations = set()\n",
    "\n",
    "    def check_unreachable(self, unreachable_nodes):\n",
    "        # Report each unreachable code instance\n",
    "        for scope, lineno in unreachable_nodes:\n",
    "            self.violations.add(f\"Violation: Unreachable code detected in '{scope}' at line {lineno}.\")\n",
    "\n",
    "# Sample code to test UnreachableCodeVisitor and UnreachableCodeChecker\n",
    "code = \"\"\"\n",
    "def exampleFunction():\n",
    "    x = 5\n",
    "    return x\n",
    "    print('This is unreachable')\n",
    "    y = 10\n",
    "\"\"\"\n",
    " #\n",
    "# Parse the code\n",
    "tree = ast.parse(code)\n",
    "\n",
    "# Run UnreachableCodeVisitor\n",
    "unreachable_visitor = UnreachableCodeVisitor()\n",
    "unreachable_visitor.visit(tree)\n",
    "\n",
    "# Run UnreachableCodeChecker\n",
    "unreachable_checker = UnreachableCodeChecker()\n",
    "unreachable_checker.check_unreachable(unreachable_visitor.unreachable_nodes)\n",
    "\n",
    "# Print the unreachable code violations\n",
    "print(\"Unreachable code violations:\", unreachable_checker.violations)\n"
   ]
  }
 ],
 "metadata": {
  "language_info": {
   "name": "python"
  }
 },
 "nbformat": 4,
 "nbformat_minor": 2
}
